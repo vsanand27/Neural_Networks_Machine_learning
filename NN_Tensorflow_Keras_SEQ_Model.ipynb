{
 "cells": [
  {
   "cell_type": "code",
   "execution_count": 1,
   "metadata": {},
   "outputs": [],
   "source": [
    "# Import our dependencies\n",
    "import pandas as pd\n",
    "import matplotlib as plt\n",
    "from sklearn.datasets import make_blobs\n",
    "import sklearn as skl\n",
    "import tensorflow as tf"
   ]
  },
  {
   "cell_type": "code",
   "execution_count": 2,
   "metadata": {},
   "outputs": [
    {
     "data": {
      "text/plain": [
       "<matplotlib.axes._subplots.AxesSubplot at 0x24b8937a3c8>"
      ]
     },
     "execution_count": 2,
     "metadata": {},
     "output_type": "execute_result"
    },
    {
     "data": {
      "image/png": "[encoded data removed]",
      "text/plain": [
       "<Figure size 432x288 with 2 Axes>"
      ]
     },
     "metadata": {
      "needs_background": "light"
     },
     "output_type": "display_data"
    }
   ],
   "source": [
    "# Generate dummy dataset\n",
    "X, y = make_blobs(n_samples=1000, centers=2, n_features=2, random_state=78)\n",
    "\n",
    "# Creating a DataFrame with the dummy data\n",
    "df = pd.DataFrame(X, columns=[\"Feature 1\", \"Feature 2\"])\n",
    "df[\"Target\"] = y\n",
    "\n",
    "# Plotting the dummy data\n",
    "df.plot.scatter(x=\"Feature 1\", y=\"Feature 2\", c=\"Target\", colormap=\"winter\")"
   ]
  },
  {
   "cell_type": "code",
   "execution_count": 3,
   "metadata": {},
   "outputs": [],
   "source": [
    "#Use sklearn to split dataset\n",
    "from sklearn.model_selection import train_test_split\n",
    "X_train, X_test, y_train, y_test = train_test_split(X, y, random_state=78)"
   ]
  },
  {
   "cell_type": "code",
   "execution_count": 4,
   "metadata": {},
   "outputs": [],
   "source": [
    "# Create scaler instance\n",
    "X_scaler = skl.preprocessing.StandardScaler()\n",
    "\n",
    "# Fit the scaler\n",
    "X_scaler.fit(X_train)\n",
    "\n",
    "# Scale the data\n",
    "X_train_scaled = X_scaler.transform(X_train)\n",
    "X_test_scaled = X_scaler.transform(X_test)"
   ]
  },
  {
   "cell_type": "code",
   "execution_count": 5,
   "metadata": {},
   "outputs": [],
   "source": [
    "# Create the Keras Sequential model\n",
    "nn_model = tf.keras.models.Sequential()"
   ]
  },
  {
   "cell_type": "markdown",
   "metadata": {},
   "source": [
    "As we learned earlier, we can add layers to our Sequential model using Keras’ Dense class. For our first layer, we need to define a few parameters:\n",
    "The input_dim parameter indicates how many inputs will be in the model (in this case two).\n",
    "The units parameter indicates how many neurons we want in the hidden layer (in this case one).\n",
    "The activation parameter indicates which activation function to use. We’ll use the ReLU activation function to allow our hidden layer to identify and train on nonlinear relationships in the dataset."
   ]
  },
  {
   "cell_type": "markdown",
   "metadata": {},
   "source": [
    "# Define Input Layer"
   ]
  },
  {
   "cell_type": "code",
   "execution_count": 6,
   "metadata": {},
   "outputs": [],
   "source": [
    "# Add our first Dense layer, including the input layer\n",
    "# layer is dense, unit is # of nuerons in hidden layer, \n",
    "# activation=Relu - identify and train non-linear dataset\n",
    "nn_model.add(tf.keras.layers.Dense(units=1, activation=\"relu\", input_dim=2))"
   ]
  },
  {
   "cell_type": "markdown",
   "metadata": {},
   "source": [
    "Once again, we’ll use the Dense class to tell our Sequential model what to do with the data. This time, we only need to supply the number of output neurons. For a classification model, we only want a yes or no binary decision; therefore, we only need one output neuron. In our previous layer, we used a ReLU activation function to enable nonlinear relationships; however, for our classification output, we want to use a sigmoid activation function to produce a probability output."
   ]
  },
  {
   "cell_type": "markdown",
   "metadata": {},
   "source": [
    "# Define Output Layer"
   ]
  },
  {
   "cell_type": "code",
   "execution_count": 7,
   "metadata": {},
   "outputs": [],
   "source": [
    "# Add the output layer that uses a probability activation function\n",
    "# sigmoid activation to produce output probability\n",
    "nn_model.add(tf.keras.layers.Dense(units=1, activation=\"sigmoid\"))"
   ]
  },
  {
   "cell_type": "markdown",
   "metadata": {},
   "source": [
    "check the nn_model function structure"
   ]
  },
  {
   "cell_type": "code",
   "execution_count": 8,
   "metadata": {},
   "outputs": [
    {
     "name": "stdout",
     "output_type": "stream",
     "text": [
      "Model: \"sequential\"\n",
      "_________________________________________________________________\n",
      "Layer (type)                 Output Shape              Param #   \n",
      "=================================================================\n",
      "dense (Dense)                (None, 1)                 3         \n",
      "_________________________________________________________________\n",
      "dense_1 (Dense)              (None, 1)                 2         \n",
      "=================================================================\n",
      "Total params: 5\n",
      "Trainable params: 5\n",
      "Non-trainable params: 0\n",
      "_________________________________________________________________\n"
     ]
    }
   ],
   "source": [
    "# Check the structure of the Sequential model\n",
    "nn_model.summary()"
   ]
  },
  {
   "cell_type": "markdown",
   "metadata": {},
   "source": [
    "he optimization function shapes and molds a neural network model while it is being trained to ensure that it performs to the best of its ability. The loss metric is used by machine learning algorithms to score the performance of the model through each iteration and epoch by evaluating the inaccuracy of a single input. To enhance the performance of our classification neural network, we’ll use the adam optimizer, which uses a gradient descent approach to ensure that the algorithm will not get stuck on weaker classifying variables and features. As for the loss function, we’ll use binary_crossentropy, which is specifically designed to evaluate a binary classification model."
   ]
  },
  {
   "cell_type": "markdown",
   "metadata": {},
   "source": [
    "on metric, which measures the quality of the machine learning model. There are two main types of evaluation metrics—the model predictive accuracy and model mean squared error (MSE). We use accuracy for classification models and mse for regression models. For model predictive accuracy, the higher the number the better, whereas for regression models, MSE should reduce to zero."
   ]
  },
  {
   "cell_type": "code",
   "execution_count": 9,
   "metadata": {},
   "outputs": [],
   "source": [
    "# Compile the Sequential model together and customize metrics\n",
    "nn_model.compile(loss=\"binary_crossentropy\", optimizer=\"adam\", metrics=[\"accuracy\"])\n"
   ]
  },
  {
   "cell_type": "code",
   "execution_count": 10,
   "metadata": {},
   "outputs": [
    {
     "name": "stdout",
     "output_type": "stream",
     "text": [
      "Train on 750 samples\n",
      "Epoch 1/100\n",
      "750/750 [==============================] - 0s 582us/sample - loss: 1.4041 - accuracy: 0.0000e+00\n",
      "Epoch 2/100\n",
      "750/750 [==============================] - 0s 29us/sample - loss: 1.3481 - accuracy: 0.0000e+00\n",
      "Epoch 3/100\n",
      "750/750 [==============================] - 0s 27us/sample - loss: 1.2938 - accuracy: 0.0000e+00\n",
      "Epoch 4/100\n",
      "750/750 [==============================] - 0s 29us/sample - loss: 1.2443 - accuracy: 0.0000e+00\n",
      "Epoch 5/100\n",
      "750/750 [==============================] - 0s 28us/sample - loss: 1.1976 - accuracy: 0.0000e+00\n",
      "Epoch 6/100\n",
      "750/750 [==============================] - 0s 27us/sample - loss: 1.1540 - accuracy: 0.0013\n",
      "Epoch 7/100\n",
      "750/750 [==============================] - 0s 29us/sample - loss: 1.1143 - accuracy: 0.0013\n",
      "Epoch 8/100\n",
      "750/750 [==============================] - 0s 28us/sample - loss: 1.0772 - accuracy: 0.0013\n",
      "Epoch 9/100\n",
      "750/750 [==============================] - 0s 32us/sample - loss: 1.0424 - accuracy: 0.0027\n",
      "Epoch 10/100\n",
      "750/750 [==============================] - 0s 31us/sample - loss: 1.0110 - accuracy: 0.0040\n",
      "Epoch 11/100\n",
      "750/750 [==============================] - 0s 32us/sample - loss: 0.9819 - accuracy: 0.0067\n",
      "Epoch 12/100\n",
      "750/750 [==============================] - 0s 29us/sample - loss: 0.9549 - accuracy: 0.0067\n",
      "Epoch 13/100\n",
      "750/750 [==============================] - 0s 29us/sample - loss: 0.9296 - accuracy: 0.0080\n",
      "Epoch 14/100\n",
      "750/750 [==============================] - 0s 31us/sample - loss: 0.9067 - accuracy: 0.0093\n",
      "Epoch 15/100\n",
      "750/750 [==============================] - 0s 29us/sample - loss: 0.8856 - accuracy: 0.0147\n",
      "Epoch 16/100\n",
      "750/750 [==============================] - 0s 29us/sample - loss: 0.8658 - accuracy: 0.0267\n",
      "Epoch 17/100\n",
      "750/750 [==============================] - 0s 32us/sample - loss: 0.8471 - accuracy: 0.0413\n",
      "Epoch 18/100\n",
      "750/750 [==============================] - 0s 37us/sample - loss: 0.8300 - accuracy: 0.0613\n",
      "Epoch 19/100\n",
      "750/750 [==============================] - 0s 36us/sample - loss: 0.8137 - accuracy: 0.0813\n",
      "Epoch 20/100\n",
      "750/750 [==============================] - 0s 27us/sample - loss: 0.7982 - accuracy: 0.1053\n",
      "Epoch 21/100\n",
      "750/750 [==============================] - 0s 29us/sample - loss: 0.7840 - accuracy: 0.1387\n",
      "Epoch 22/100\n",
      "750/750 [==============================] - 0s 28us/sample - loss: 0.7704 - accuracy: 0.1787\n",
      "Epoch 23/100\n",
      "750/750 [==============================] - 0s 29us/sample - loss: 0.7578 - accuracy: 0.2280\n",
      "Epoch 24/100\n",
      "750/750 [==============================] - 0s 32us/sample - loss: 0.7462 - accuracy: 0.2800\n",
      "Epoch 25/100\n",
      "750/750 [==============================] - 0s 27us/sample - loss: 0.7360 - accuracy: 0.3400\n",
      "Epoch 26/100\n",
      "750/750 [==============================] - 0s 29us/sample - loss: 0.7268 - accuracy: 0.3907\n",
      "Epoch 27/100\n",
      "750/750 [==============================] - 0s 31us/sample - loss: 0.7186 - accuracy: 0.4360\n",
      "Epoch 28/100\n",
      "750/750 [==============================] - 0s 32us/sample - loss: 0.7118 - accuracy: 0.4680\n",
      "Epoch 29/100\n",
      "750/750 [==============================] - 0s 31us/sample - loss: 0.7066 - accuracy: 0.4920\n",
      "Epoch 30/100\n",
      "750/750 [==============================] - 0s 27us/sample - loss: 0.7028 - accuracy: 0.5013\n",
      "Epoch 31/100\n",
      "750/750 [==============================] - 0s 29us/sample - loss: 0.7000 - accuracy: 0.5040\n",
      "Epoch 32/100\n",
      "750/750 [==============================] - 0s 31us/sample - loss: 0.6983 - accuracy: 0.5053\n",
      "Epoch 33/100\n",
      "750/750 [==============================] - 0s 35us/sample - loss: 0.6970 - accuracy: 0.5053\n",
      "Epoch 34/100\n",
      "750/750 [==============================] - 0s 31us/sample - loss: 0.6962 - accuracy: 0.5067\n",
      "Epoch 35/100\n",
      "750/750 [==============================] - 0s 29us/sample - loss: 0.6957 - accuracy: 0.5067\n",
      "Epoch 36/100\n",
      "750/750 [==============================] - 0s 29us/sample - loss: 0.6954 - accuracy: 0.5067\n",
      "Epoch 37/100\n",
      "750/750 [==============================] - 0s 27us/sample - loss: 0.6951 - accuracy: 0.5067\n",
      "Epoch 38/100\n",
      "750/750 [==============================] - 0s 27us/sample - loss: 0.6948 - accuracy: 0.5067\n",
      "Epoch 39/100\n",
      "750/750 [==============================] - 0s 24us/sample - loss: 0.6947 - accuracy: 0.5067\n",
      "Epoch 40/100\n",
      "750/750 [==============================] - 0s 24us/sample - loss: 0.6944 - accuracy: 0.5067\n",
      "Epoch 41/100\n",
      "750/750 [==============================] - 0s 25us/sample - loss: 0.6943 - accuracy: 0.5067\n",
      "Epoch 42/100\n",
      "750/750 [==============================] - 0s 28us/sample - loss: 0.6942 - accuracy: 0.5067\n",
      "Epoch 43/100\n",
      "750/750 [==============================] - 0s 33us/sample - loss: 0.6941 - accuracy: 0.5067\n",
      "Epoch 44/100\n",
      "750/750 [==============================] - 0s 37us/sample - loss: 0.6940 - accuracy: 0.5067\n",
      "Epoch 45/100\n",
      "750/750 [==============================] - 0s 24us/sample - loss: 0.6939 - accuracy: 0.5067\n",
      "Epoch 46/100\n",
      "750/750 [==============================] - 0s 25us/sample - loss: 0.6938 - accuracy: 0.5067\n",
      "Epoch 47/100\n",
      "750/750 [==============================] - 0s 25us/sample - loss: 0.6937 - accuracy: 0.5067\n",
      "Epoch 48/100\n",
      "750/750 [==============================] - 0s 25us/sample - loss: 0.6936 - accuracy: 0.5067\n",
      "Epoch 49/100\n",
      "750/750 [==============================] - 0s 24us/sample - loss: 0.6936 - accuracy: 0.5067\n",
      "Epoch 50/100\n",
      "750/750 [==============================] - 0s 25us/sample - loss: 0.6935 - accuracy: 0.5067\n",
      "Epoch 51/100\n",
      "750/750 [==============================] - 0s 25us/sample - loss: 0.6935 - accuracy: 0.5067\n",
      "Epoch 52/100\n",
      "750/750 [==============================] - 0s 24us/sample - loss: 0.6935 - accuracy: 0.5067\n",
      "Epoch 53/100\n",
      "750/750 [==============================] - 0s 27us/sample - loss: 0.6934 - accuracy: 0.5067\n",
      "Epoch 54/100\n",
      "750/750 [==============================] - 0s 24us/sample - loss: 0.6934 - accuracy: 0.5067\n",
      "Epoch 55/100\n",
      "750/750 [==============================] - 0s 25us/sample - loss: 0.6934 - accuracy: 0.5067\n",
      "Epoch 56/100\n",
      "750/750 [==============================] - 0s 24us/sample - loss: 0.6933 - accuracy: 0.5067\n",
      "Epoch 57/100\n",
      "750/750 [==============================] - 0s 24us/sample - loss: 0.6933 - accuracy: 0.5067\n",
      "Epoch 58/100\n",
      "750/750 [==============================] - 0s 25us/sample - loss: 0.6933 - accuracy: 0.5067\n",
      "Epoch 59/100\n",
      "750/750 [==============================] - 0s 25us/sample - loss: 0.6933 - accuracy: 0.5067\n",
      "Epoch 60/100\n",
      "750/750 [==============================] - 0s 25us/sample - loss: 0.6932 - accuracy: 0.5067\n",
      "Epoch 61/100\n",
      "750/750 [==============================] - 0s 25us/sample - loss: 0.6932 - accuracy: 0.5067\n",
      "Epoch 62/100\n",
      "750/750 [==============================] - 0s 25us/sample - loss: 0.6932 - accuracy: 0.5067\n",
      "Epoch 63/100\n",
      "750/750 [==============================] - 0s 25us/sample - loss: 0.6932 - accuracy: 0.5067\n",
      "Epoch 64/100\n",
      "750/750 [==============================] - 0s 25us/sample - loss: 0.6932 - accuracy: 0.5067\n",
      "Epoch 65/100\n",
      "750/750 [==============================] - 0s 29us/sample - loss: 0.6932 - accuracy: 0.5067\n",
      "Epoch 66/100\n",
      "750/750 [==============================] - 0s 24us/sample - loss: 0.6932 - accuracy: 0.5067\n",
      "Epoch 67/100\n",
      "750/750 [==============================] - 0s 24us/sample - loss: 0.6932 - accuracy: 0.5067\n",
      "Epoch 68/100\n",
      "750/750 [==============================] - 0s 25us/sample - loss: 0.6931 - accuracy: 0.5067\n",
      "Epoch 69/100\n",
      "750/750 [==============================] - 0s 25us/sample - loss: 0.6931 - accuracy: 0.5067\n",
      "Epoch 70/100\n",
      "750/750 [==============================] - 0s 27us/sample - loss: 0.6931 - accuracy: 0.5067\n",
      "Epoch 71/100\n",
      "750/750 [==============================] - 0s 24us/sample - loss: 0.6931 - accuracy: 0.5067\n",
      "Epoch 72/100\n",
      "750/750 [==============================] - 0s 25us/sample - loss: 0.6932 - accuracy: 0.5067\n",
      "Epoch 73/100\n",
      "750/750 [==============================] - 0s 25us/sample - loss: 0.6931 - accuracy: 0.5067\n",
      "Epoch 74/100\n",
      "750/750 [==============================] - 0s 27us/sample - loss: 0.6931 - accuracy: 0.5067\n",
      "Epoch 75/100\n",
      "750/750 [==============================] - 0s 25us/sample - loss: 0.6931 - accuracy: 0.5067\n",
      "Epoch 76/100\n",
      "750/750 [==============================] - 0s 27us/sample - loss: 0.6931 - accuracy: 0.5067\n",
      "Epoch 77/100\n",
      "750/750 [==============================] - 0s 25us/sample - loss: 0.6931 - accuracy: 0.5067\n",
      "Epoch 78/100\n",
      "750/750 [==============================] - 0s 25us/sample - loss: 0.6931 - accuracy: 0.5067\n",
      "Epoch 79/100\n",
      "750/750 [==============================] - 0s 25us/sample - loss: 0.6931 - accuracy: 0.5067\n",
      "Epoch 80/100\n",
      "750/750 [==============================] - 0s 25us/sample - loss: 0.6931 - accuracy: 0.5067\n",
      "Epoch 81/100\n",
      "750/750 [==============================] - 0s 25us/sample - loss: 0.6931 - accuracy: 0.5067\n",
      "Epoch 82/100\n",
      "750/750 [==============================] - 0s 24us/sample - loss: 0.6931 - accuracy: 0.5067\n",
      "Epoch 83/100\n",
      "750/750 [==============================] - 0s 25us/sample - loss: 0.6931 - accuracy: 0.5067\n",
      "Epoch 84/100\n",
      "750/750 [==============================] - 0s 27us/sample - loss: 0.6931 - accuracy: 0.5067\n",
      "Epoch 85/100\n",
      "750/750 [==============================] - 0s 25us/sample - loss: 0.6931 - accuracy: 0.5067\n",
      "Epoch 86/100\n",
      "750/750 [==============================] - 0s 24us/sample - loss: 0.6931 - accuracy: 0.5067\n",
      "Epoch 87/100\n",
      "750/750 [==============================] - 0s 27us/sample - loss: 0.6931 - accuracy: 0.5067\n",
      "Epoch 88/100\n",
      "750/750 [==============================] - 0s 25us/sample - loss: 0.6931 - accuracy: 0.5067\n",
      "Epoch 89/100\n",
      "750/750 [==============================] - 0s 27us/sample - loss: 0.6931 - accuracy: 0.5067\n",
      "Epoch 90/100\n",
      "750/750 [==============================] - 0s 25us/sample - loss: 0.6931 - accuracy: 0.5067\n",
      "Epoch 91/100\n",
      "750/750 [==============================] - 0s 24us/sample - loss: 0.6931 - accuracy: 0.5067\n",
      "Epoch 92/100\n",
      "750/750 [==============================] - 0s 25us/sample - loss: 0.6931 - accuracy: 0.5067\n",
      "Epoch 93/100\n",
      "750/750 [==============================] - 0s 25us/sample - loss: 0.6931 - accuracy: 0.5067\n",
      "Epoch 94/100\n",
      "750/750 [==============================] - 0s 27us/sample - loss: 0.6931 - accuracy: 0.5067\n",
      "Epoch 95/100\n",
      "750/750 [==============================] - 0s 32us/sample - loss: 0.6931 - accuracy: 0.5067\n",
      "Epoch 96/100\n",
      "750/750 [==============================] - 0s 39us/sample - loss: 0.6931 - accuracy: 0.5067\n",
      "Epoch 97/100\n",
      "750/750 [==============================] - 0s 27us/sample - loss: 0.6931 - accuracy: 0.5067\n",
      "Epoch 98/100\n",
      "750/750 [==============================] - 0s 25us/sample - loss: 0.6931 - accuracy: 0.5067\n",
      "Epoch 99/100\n",
      "750/750 [==============================] - 0s 28us/sample - loss: 0.6931 - accuracy: 0.5067\n",
      "Epoch 100/100\n",
      "750/750 [==============================] - 0s 24us/sample - loss: 0.6931 - accuracy: 0.5067\n"
     ]
    }
   ],
   "source": [
    "# Fit the model to the training data\n",
    "fit_model = nn_model.fit(X_train_scaled, y_train, epochs=100)"
   ]
  },
  {
   "cell_type": "code",
   "execution_count": 11,
   "metadata": {},
   "outputs": [
    {
     "data": {
      "text/plain": [
       "<matplotlib.axes._subplots.AxesSubplot at 0x24b898892c8>"
      ]
     },
     "execution_count": 11,
     "metadata": {},
     "output_type": "execute_result"
    },
    {
     "data": {
      "image/png": "[encoded data removed]",
      "text/plain": [
       "<Figure size 432x288 with 1 Axes>"
      ]
     },
     "metadata": {
      "needs_background": "light"
     },
     "output_type": "display_data"
    }
   ],
   "source": [
    "# Create a DataFrame containing training history\n",
    "history_df = pd.DataFrame(fit_model.history, index=range(1,len(fit_model.history[\"loss\"])+1))\n",
    "\n",
    "# Plot the loss\n",
    "history_df.plot(y=\"loss\")"
   ]
  },
  {
   "cell_type": "code",
   "execution_count": 12,
   "metadata": {},
   "outputs": [
    {
     "data": {
      "text/plain": [
       "<matplotlib.axes._subplots.AxesSubplot at 0x24b8aee7688>"
      ]
     },
     "execution_count": 12,
     "metadata": {},
     "output_type": "execute_result"
    },
    {
     "data": {
      "image/png": "[encoded data removed]",
      "text/plain": [
       "<Figure size 432x288 with 1 Axes>"
      ]
     },
     "metadata": {
      "needs_background": "light"
     },
     "output_type": "display_data"
    }
   ],
   "source": [
    "# Plot the accuracy\n",
    "history_df.plot(y=\"accuracy\")"
   ]
  },
  {
   "cell_type": "code",
   "execution_count": 13,
   "metadata": {},
   "outputs": [
    {
     "name": "stdout",
     "output_type": "stream",
     "text": [
      "250/250 - 0s - loss: 0.6941 - accuracy: 0.4720\n",
      "Loss: 0.6941036081314087, Accuracy: 0.47200000286102295\n"
     ]
    }
   ],
   "source": [
    "# Evaluate the model using the test data\n",
    "model_loss, model_accuracy = nn_model.evaluate(X_test_scaled,y_test,verbose=2)\n",
    "print(f\"Loss: {model_loss}, Accuracy: {model_accuracy}\")"
   ]
  },
  {
   "cell_type": "code",
   "execution_count": 14,
   "metadata": {},
   "outputs": [
    {
     "data": {
      "text/plain": [
       "array([[0],\n",
       "       [0],\n",
       "       [0],\n",
       "       [0],\n",
       "       [0],\n",
       "       [0],\n",
       "       [0],\n",
       "       [0],\n",
       "       [0],\n",
       "       [0]])"
      ]
     },
     "execution_count": 14,
     "metadata": {},
     "output_type": "execute_result"
    }
   ],
   "source": [
    "# Predict the classification of a new set of blob data\n",
    "new_X, new_Y = make_blobs(n_samples=10, centers=2, n_features=2, random_state=78)\n",
    "new_X_scaled = X_scaler.transform(new_X)\n",
    "nn_model.predict_classes(new_X_scaled)"
   ]
  },
  {
   "cell_type": "markdown",
   "metadata": {},
   "source": [
    "# New Non linear moon shaped data using Scikit-learns - New Model"
   ]
  },
  {
   "cell_type": "code",
   "execution_count": 15,
   "metadata": {},
   "outputs": [
    {
     "data": {
      "text/plain": [
       "<matplotlib.axes._subplots.AxesSubplot at 0x24b8b096f08>"
      ]
     },
     "execution_count": 15,
     "metadata": {},
     "output_type": "execute_result"
    },
    {
     "data": {
      "image/png": "[encoded data removed]",
      "text/plain": [
       "<Figure size 432x288 with 2 Axes>"
      ]
     },
     "metadata": {
      "needs_background": "light"
     },
     "output_type": "display_data"
    }
   ],
   "source": [
    "from sklearn.datasets import make_moons\n",
    "\n",
    "# Creating dummy nonlinear data\n",
    "X_moons, y_moons = make_moons(n_samples=1000, noise=0.08, random_state=78)\n",
    "\n",
    "# Transforming y_moons to a vertical vector\n",
    "y_moons = y_moons.reshape(-1, 1)\n",
    "\n",
    "# Creating a DataFrame to plot the nonlinear dummy data\n",
    "df_moons = pd.DataFrame(X_moons, columns=[\"Feature 1\", \"Feature 2\"])\n",
    "df_moons[\"Target\"] = y_moons\n",
    "\n",
    "# Plot the nonlinear dummy data\n",
    "df_moons.plot.scatter(x=\"Feature 1\",y=\"Feature 2\", c=\"Target\",colormap=\"winter\")"
   ]
  },
  {
   "cell_type": "code",
   "execution_count": 16,
   "metadata": {},
   "outputs": [],
   "source": [
    "# Create training and testing sets\n",
    "X_moon_train, X_moon_test, y_moon_train, y_moon_test = train_test_split(\n",
    "    X_moons, y_moons, random_state=78\n",
    ")\n",
    "\n",
    "# Create the scaler instance\n",
    "X_moon_scaler = skl.preprocessing.StandardScaler()\n",
    "\n",
    "# Fit the scaler\n",
    "X_moon_scaler.fit(X_moon_train)\n",
    "\n",
    "# Scale the data\n",
    "X_moon_train_scaled = X_moon_scaler.transform(X_moon_train)\n",
    "X_moon_test_scaled = X_moon_scaler.transform(X_moon_test)"
   ]
  },
  {
   "cell_type": "code",
   "execution_count": 17,
   "metadata": {},
   "outputs": [
    {
     "name": "stdout",
     "output_type": "stream",
     "text": [
      "Train on 750 samples\n",
      "Epoch 1/100\n",
      "750/750 [==============================] - 0s 236us/sample - loss: 0.6947 - accuracy: 0.4747\n",
      "Epoch 2/100\n",
      "750/750 [==============================] - 0s 24us/sample - loss: 0.6938 - accuracy: 0.4973\n",
      "Epoch 3/100\n",
      "750/750 [==============================] - 0s 40us/sample - loss: 0.6929 - accuracy: 0.5147\n",
      "Epoch 4/100\n",
      "750/750 [==============================] - 0s 39us/sample - loss: 0.6924 - accuracy: 0.5253\n",
      "Epoch 5/100\n",
      "750/750 [==============================] - 0s 35us/sample - loss: 0.6921 - accuracy: 0.5293\n",
      "Epoch 6/100\n",
      "750/750 [==============================] - 0s 27us/sample - loss: 0.6920 - accuracy: 0.5293\n",
      "Epoch 7/100\n",
      "750/750 [==============================] - 0s 28us/sample - loss: 0.6919 - accuracy: 0.5293\n",
      "Epoch 8/100\n",
      "750/750 [==============================] - 0s 29us/sample - loss: 0.6918 - accuracy: 0.5307\n",
      "Epoch 9/100\n",
      "750/750 [==============================] - 0s 27us/sample - loss: 0.6917 - accuracy: 0.5307\n",
      "Epoch 10/100\n",
      "750/750 [==============================] - 0s 29us/sample - loss: 0.6917 - accuracy: 0.5307\n",
      "Epoch 11/100\n",
      "750/750 [==============================] - 0s 31us/sample - loss: 0.6916 - accuracy: 0.5307\n",
      "Epoch 12/100\n",
      "750/750 [==============================] - 0s 31us/sample - loss: 0.6916 - accuracy: 0.5307\n",
      "Epoch 13/100\n",
      "750/750 [==============================] - 0s 28us/sample - loss: 0.6915 - accuracy: 0.5307\n",
      "Epoch 14/100\n",
      "750/750 [==============================] - 0s 29us/sample - loss: 0.6915 - accuracy: 0.5307\n",
      "Epoch 15/100\n",
      "750/750 [==============================] - 0s 29us/sample - loss: 0.6915 - accuracy: 0.5307\n",
      "Epoch 16/100\n",
      "750/750 [==============================] - 0s 40us/sample - loss: 0.6915 - accuracy: 0.5307\n",
      "Epoch 17/100\n",
      "750/750 [==============================] - 0s 43us/sample - loss: 0.6914 - accuracy: 0.5307\n",
      "Epoch 18/100\n",
      "750/750 [==============================] - 0s 39us/sample - loss: 0.6915 - accuracy: 0.5307\n",
      "Epoch 19/100\n",
      "750/750 [==============================] - 0s 28us/sample - loss: 0.6914 - accuracy: 0.5307\n",
      "Epoch 20/100\n",
      "750/750 [==============================] - 0s 28us/sample - loss: 0.6914 - accuracy: 0.5307\n",
      "Epoch 21/100\n",
      "750/750 [==============================] - 0s 29us/sample - loss: 0.6914 - accuracy: 0.5307\n",
      "Epoch 22/100\n",
      "750/750 [==============================] - 0s 31us/sample - loss: 0.6914 - accuracy: 0.5307\n",
      "Epoch 23/100\n",
      "750/750 [==============================] - 0s 33us/sample - loss: 0.6914 - accuracy: 0.5307\n",
      "Epoch 24/100\n",
      "750/750 [==============================] - 0s 25us/sample - loss: 0.6914 - accuracy: 0.5307\n",
      "Epoch 25/100\n",
      "750/750 [==============================] - 0s 29us/sample - loss: 0.6914 - accuracy: 0.5307\n",
      "Epoch 26/100\n",
      "750/750 [==============================] - 0s 31us/sample - loss: 0.6913 - accuracy: 0.5307\n",
      "Epoch 27/100\n",
      "750/750 [==============================] - 0s 31us/sample - loss: 0.6913 - accuracy: 0.5307\n",
      "Epoch 28/100\n",
      "750/750 [==============================] - 0s 29us/sample - loss: 0.6913 - accuracy: 0.5307\n",
      "Epoch 29/100\n",
      "750/750 [==============================] - 0s 28us/sample - loss: 0.6913 - accuracy: 0.5307\n",
      "Epoch 30/100\n",
      "750/750 [==============================] - 0s 29us/sample - loss: 0.6913 - accuracy: 0.5307\n",
      "Epoch 31/100\n",
      "750/750 [==============================] - 0s 29us/sample - loss: 0.6913 - accuracy: 0.5307\n",
      "Epoch 32/100\n",
      "750/750 [==============================] - 0s 27us/sample - loss: 0.6913 - accuracy: 0.5307\n",
      "Epoch 33/100\n",
      "750/750 [==============================] - 0s 29us/sample - loss: 0.6913 - accuracy: 0.5307\n",
      "Epoch 34/100\n",
      "750/750 [==============================] - 0s 33us/sample - loss: 0.6913 - accuracy: 0.5307\n",
      "Epoch 35/100\n",
      "750/750 [==============================] - 0s 31us/sample - loss: 0.6913 - accuracy: 0.5307\n",
      "Epoch 36/100\n",
      "750/750 [==============================] - 0s 32us/sample - loss: 0.6913 - accuracy: 0.5307\n",
      "Epoch 37/100\n",
      "750/750 [==============================] - 0s 24us/sample - loss: 0.6913 - accuracy: 0.5307\n",
      "Epoch 38/100\n",
      "750/750 [==============================] - 0s 27us/sample - loss: 0.6913 - accuracy: 0.5307\n",
      "Epoch 39/100\n",
      "750/750 [==============================] - 0s 25us/sample - loss: 0.6913 - accuracy: 0.5307\n",
      "Epoch 40/100\n",
      "750/750 [==============================] - 0s 25us/sample - loss: 0.6913 - accuracy: 0.5307\n",
      "Epoch 41/100\n",
      "750/750 [==============================] - 0s 27us/sample - loss: 0.6913 - accuracy: 0.5307\n",
      "Epoch 42/100\n",
      "750/750 [==============================] - 0s 29us/sample - loss: 0.6913 - accuracy: 0.5307\n",
      "Epoch 43/100\n",
      "750/750 [==============================] - 0s 29us/sample - loss: 0.6913 - accuracy: 0.5307\n",
      "Epoch 44/100\n",
      "750/750 [==============================] - 0s 27us/sample - loss: 0.6913 - accuracy: 0.5307\n",
      "Epoch 45/100\n",
      "750/750 [==============================] - 0s 27us/sample - loss: 0.6913 - accuracy: 0.5307\n",
      "Epoch 46/100\n",
      "750/750 [==============================] - 0s 27us/sample - loss: 0.6913 - accuracy: 0.5307\n",
      "Epoch 47/100\n",
      "750/750 [==============================] - 0s 25us/sample - loss: 0.6913 - accuracy: 0.5307\n",
      "Epoch 48/100\n",
      "750/750 [==============================] - 0s 27us/sample - loss: 0.6913 - accuracy: 0.5307\n",
      "Epoch 49/100\n",
      "750/750 [==============================] - 0s 33us/sample - loss: 0.6913 - accuracy: 0.5307\n",
      "Epoch 50/100\n",
      "750/750 [==============================] - 0s 37us/sample - loss: 0.6913 - accuracy: 0.5307\n",
      "Epoch 51/100\n",
      "750/750 [==============================] - 0s 31us/sample - loss: 0.6913 - accuracy: 0.5307\n",
      "Epoch 52/100\n",
      "750/750 [==============================] - 0s 25us/sample - loss: 0.6913 - accuracy: 0.5307\n",
      "Epoch 53/100\n",
      "750/750 [==============================] - 0s 25us/sample - loss: 0.6913 - accuracy: 0.5307\n",
      "Epoch 54/100\n",
      "750/750 [==============================] - 0s 27us/sample - loss: 0.6913 - accuracy: 0.5307\n",
      "Epoch 55/100\n",
      "750/750 [==============================] - 0s 27us/sample - loss: 0.6913 - accuracy: 0.5307\n",
      "Epoch 56/100\n",
      "750/750 [==============================] - 0s 25us/sample - loss: 0.6913 - accuracy: 0.5307\n",
      "Epoch 57/100\n",
      "750/750 [==============================] - 0s 25us/sample - loss: 0.6913 - accuracy: 0.5307\n",
      "Epoch 58/100\n",
      "750/750 [==============================] - 0s 28us/sample - loss: 0.6913 - accuracy: 0.5307\n",
      "Epoch 59/100\n",
      "750/750 [==============================] - 0s 27us/sample - loss: 0.6913 - accuracy: 0.5307\n",
      "Epoch 60/100\n",
      "750/750 [==============================] - 0s 25us/sample - loss: 0.6913 - accuracy: 0.5307\n",
      "Epoch 61/100\n",
      "750/750 [==============================] - 0s 25us/sample - loss: 0.6913 - accuracy: 0.5307\n",
      "Epoch 62/100\n",
      "750/750 [==============================] - 0s 25us/sample - loss: 0.6913 - accuracy: 0.5307\n",
      "Epoch 63/100\n",
      "750/750 [==============================] - 0s 27us/sample - loss: 0.6913 - accuracy: 0.5307\n",
      "Epoch 64/100\n",
      "750/750 [==============================] - 0s 27us/sample - loss: 0.6913 - accuracy: 0.5307\n",
      "Epoch 65/100\n",
      "750/750 [==============================] - 0s 25us/sample - loss: 0.6913 - accuracy: 0.5307\n",
      "Epoch 66/100\n",
      "750/750 [==============================] - 0s 25us/sample - loss: 0.6913 - accuracy: 0.5307\n",
      "Epoch 67/100\n",
      "750/750 [==============================] - 0s 27us/sample - loss: 0.6913 - accuracy: 0.5307\n",
      "Epoch 68/100\n",
      "750/750 [==============================] - 0s 25us/sample - loss: 0.6913 - accuracy: 0.5307\n",
      "Epoch 69/100\n",
      "750/750 [==============================] - 0s 28us/sample - loss: 0.6913 - accuracy: 0.5307\n",
      "Epoch 70/100\n",
      "750/750 [==============================] - 0s 25us/sample - loss: 0.6913 - accuracy: 0.5307\n",
      "Epoch 71/100\n",
      "750/750 [==============================] - 0s 28us/sample - loss: 0.6913 - accuracy: 0.5307\n",
      "Epoch 72/100\n",
      "750/750 [==============================] - 0s 25us/sample - loss: 0.6913 - accuracy: 0.5307\n",
      "Epoch 73/100\n",
      "750/750 [==============================] - 0s 27us/sample - loss: 0.6914 - accuracy: 0.5307\n",
      "Epoch 74/100\n",
      "750/750 [==============================] - 0s 25us/sample - loss: 0.6913 - accuracy: 0.5307\n",
      "Epoch 75/100\n",
      "750/750 [==============================] - 0s 28us/sample - loss: 0.6913 - accuracy: 0.5307\n",
      "Epoch 76/100\n",
      "750/750 [==============================] - 0s 27us/sample - loss: 0.6913 - accuracy: 0.5307\n",
      "Epoch 77/100\n",
      "750/750 [==============================] - 0s 25us/sample - loss: 0.6913 - accuracy: 0.5307\n",
      "Epoch 78/100\n",
      "750/750 [==============================] - 0s 25us/sample - loss: 0.6913 - accuracy: 0.5307\n",
      "Epoch 79/100\n",
      "750/750 [==============================] - 0s 28us/sample - loss: 0.6913 - accuracy: 0.5307\n",
      "Epoch 80/100\n",
      "750/750 [==============================] - 0s 27us/sample - loss: 0.6913 - accuracy: 0.5307\n",
      "Epoch 81/100\n",
      "750/750 [==============================] - 0s 24us/sample - loss: 0.6913 - accuracy: 0.5307\n",
      "Epoch 82/100\n",
      "750/750 [==============================] - 0s 25us/sample - loss: 0.6913 - accuracy: 0.5307\n",
      "Epoch 83/100\n",
      "750/750 [==============================] - 0s 25us/sample - loss: 0.6913 - accuracy: 0.5307\n",
      "Epoch 84/100\n",
      "750/750 [==============================] - 0s 25us/sample - loss: 0.6913 - accuracy: 0.5307\n",
      "Epoch 85/100\n",
      "750/750 [==============================] - 0s 25us/sample - loss: 0.6913 - accuracy: 0.5307\n",
      "Epoch 86/100\n",
      "750/750 [==============================] - 0s 25us/sample - loss: 0.6913 - accuracy: 0.5307\n",
      "Epoch 87/100\n",
      "750/750 [==============================] - 0s 24us/sample - loss: 0.6913 - accuracy: 0.5307\n",
      "Epoch 88/100\n",
      "750/750 [==============================] - 0s 25us/sample - loss: 0.6913 - accuracy: 0.5307\n",
      "Epoch 89/100\n",
      "750/750 [==============================] - 0s 25us/sample - loss: 0.6913 - accuracy: 0.5307\n",
      "Epoch 90/100\n",
      "750/750 [==============================] - 0s 27us/sample - loss: 0.6913 - accuracy: 0.5307\n",
      "Epoch 91/100\n",
      "750/750 [==============================] - 0s 25us/sample - loss: 0.6913 - accuracy: 0.5307\n",
      "Epoch 92/100\n",
      "750/750 [==============================] - 0s 25us/sample - loss: 0.6913 - accuracy: 0.5307\n",
      "Epoch 93/100\n",
      "750/750 [==============================] - 0s 25us/sample - loss: 0.6913 - accuracy: 0.5307\n",
      "Epoch 94/100\n",
      "750/750 [==============================] - 0s 25us/sample - loss: 0.6913 - accuracy: 0.5307\n",
      "Epoch 95/100\n",
      "750/750 [==============================] - 0s 24us/sample - loss: 0.6913 - accuracy: 0.5307\n",
      "Epoch 96/100\n",
      "750/750 [==============================] - 0s 27us/sample - loss: 0.6913 - accuracy: 0.5307\n",
      "Epoch 97/100\n",
      "750/750 [==============================] - 0s 27us/sample - loss: 0.6913 - accuracy: 0.5307\n",
      "Epoch 98/100\n",
      "750/750 [==============================] - 0s 25us/sample - loss: 0.6913 - accuracy: 0.5307\n",
      "Epoch 99/100\n",
      "750/750 [==============================] - 0s 25us/sample - loss: 0.6913 - accuracy: 0.5307\n",
      "Epoch 100/100\n",
      "750/750 [==============================] - 0s 25us/sample - loss: 0.6913 - accuracy: 0.5307\n"
     ]
    }
   ],
   "source": [
    "# Training the model with the nonlinear data\n",
    "model_moon = nn_model.fit(X_moon_train_scaled, y_moon_train, epochs=100, shuffle=True)"
   ]
  },
  {
   "cell_type": "code",
   "execution_count": 18,
   "metadata": {
    "scrolled": true
   },
   "outputs": [
    {
     "data": {
      "text/plain": [
       "<matplotlib.axes._subplots.AxesSubplot at 0x24b8b52f888>"
      ]
     },
     "execution_count": 18,
     "metadata": {},
     "output_type": "execute_result"
    },
    {
     "data": {
      "image/png": "[encoded data removed]",
      "text/plain": [
       "<Figure size 432x288 with 1 Axes>"
      ]
     },
     "metadata": {
      "needs_background": "light"
     },
     "output_type": "display_data"
    }
   ],
   "source": [
    "# Create a DataFrame containing training history\n",
    "history_df = pd.DataFrame(model_moon.history, index=range(1,len(model_moon.history[\"loss\"])+1))\n",
    "\n",
    "# Plot the loss\n",
    "history_df.plot(y=\"loss\")"
   ]
  },
  {
   "cell_type": "code",
   "execution_count": 19,
   "metadata": {},
   "outputs": [
    {
     "data": {
      "text/plain": [
       "<matplotlib.axes._subplots.AxesSubplot at 0x24b8b591b08>"
      ]
     },
     "execution_count": 19,
     "metadata": {},
     "output_type": "execute_result"
    },
    {
     "data": {
      "image/png": "[encoded data removed]",
      "text/plain": [
       "<Figure size 432x288 with 1 Axes>"
      ]
     },
     "metadata": {
      "needs_background": "light"
     },
     "output_type": "display_data"
    }
   ],
   "source": [
    "# Plot the loss\n",
    "history_df.plot(y=\"accuracy\")"
   ]
  },
  {
   "cell_type": "markdown",
   "metadata": {},
   "source": [
    "# Create the Connective Tissue, the Multiple-Neuron Neural Network"
   ]
  },
  {
   "cell_type": "code",
   "execution_count": 20,
   "metadata": {},
   "outputs": [],
   "source": [
    "# Generate our new Sequential model\n",
    "new_model = tf.keras.models.Sequential()"
   ]
  },
  {
   "cell_type": "code",
   "execution_count": 22,
   "metadata": {},
   "outputs": [],
   "source": [
    "# Add the input and hidden layer\n",
    "number_inputs = 2\n",
    "number_hidden_nodes = 6\n",
    "\n",
    "new_model.add(tf.keras.layers.Dense(units=number_hidden_nodes, activation=\"relu\", input_dim=number_inputs))\n",
    "\n",
    "# Add the output layer that uses a probability activation function\n",
    "new_model.add(tf.keras.layers.Dense(units=1, activation=\"sigmoid\"))"
   ]
  },
  {
   "cell_type": "code",
   "execution_count": 23,
   "metadata": {},
   "outputs": [
    {
     "name": "stdout",
     "output_type": "stream",
     "text": [
      "Train on 750 samples\n",
      "Epoch 1/100\n",
      "750/750 [==============================] - 0s 493us/sample - loss: 0.7550 - accuracy: 0.4693\n",
      "Epoch 2/100\n",
      "750/750 [==============================] - 0s 31us/sample - loss: 0.7346 - accuracy: 0.4693\n",
      "Epoch 3/100\n",
      "750/750 [==============================] - 0s 28us/sample - loss: 0.7192 - accuracy: 0.4693\n",
      "Epoch 4/100\n",
      "750/750 [==============================] - 0s 31us/sample - loss: 0.7083 - accuracy: 0.4373\n",
      "Epoch 5/100\n",
      "750/750 [==============================] - 0s 31us/sample - loss: 0.7002 - accuracy: 0.3800\n",
      "Epoch 6/100\n",
      "750/750 [==============================] - 0s 29us/sample - loss: 0.6946 - accuracy: 0.4373\n",
      "Epoch 7/100\n",
      "750/750 [==============================] - 0s 31us/sample - loss: 0.6909 - accuracy: 0.5867\n",
      "Epoch 8/100\n",
      "750/750 [==============================] - 0s 29us/sample - loss: 0.6872 - accuracy: 0.6880\n",
      "Epoch 9/100\n",
      "750/750 [==============================] - 0s 31us/sample - loss: 0.6834 - accuracy: 0.8293\n",
      "Epoch 10/100\n",
      "750/750 [==============================] - 0s 31us/sample - loss: 0.6794 - accuracy: 0.8027\n",
      "Epoch 11/100\n",
      "750/750 [==============================] - 0s 29us/sample - loss: 0.6755 - accuracy: 0.8173\n",
      "Epoch 12/100\n",
      "750/750 [==============================] - 0s 32us/sample - loss: 0.6714 - accuracy: 0.8293\n",
      "Epoch 13/100\n",
      "750/750 [==============================] - 0s 31us/sample - loss: 0.6666 - accuracy: 0.8320\n",
      "Epoch 14/100\n",
      "750/750 [==============================] - 0s 32us/sample - loss: 0.6610 - accuracy: 0.8373\n",
      "Epoch 15/100\n",
      "750/750 [==============================] - 0s 29us/sample - loss: 0.6546 - accuracy: 0.8480\n",
      "Epoch 16/100\n",
      "750/750 [==============================] - 0s 33us/sample - loss: 0.6474 - accuracy: 0.8227\n",
      "Epoch 17/100\n",
      "750/750 [==============================] - 0s 29us/sample - loss: 0.6391 - accuracy: 0.8307\n",
      "Epoch 18/100\n",
      "750/750 [==============================] - 0s 31us/sample - loss: 0.6299 - accuracy: 0.8200\n",
      "Epoch 19/100\n",
      "750/750 [==============================] - 0s 32us/sample - loss: 0.6193 - accuracy: 0.8227\n",
      "Epoch 20/100\n",
      "750/750 [==============================] - 0s 29us/sample - loss: 0.6079 - accuracy: 0.8333\n",
      "Epoch 21/100\n",
      "750/750 [==============================] - 0s 32us/sample - loss: 0.5957 - accuracy: 0.8480\n",
      "Epoch 22/100\n",
      "750/750 [==============================] - 0s 29us/sample - loss: 0.5824 - accuracy: 0.8600\n",
      "Epoch 23/100\n",
      "750/750 [==============================] - 0s 33us/sample - loss: 0.5685 - accuracy: 0.8693\n",
      "Epoch 24/100\n",
      "750/750 [==============================] - 0s 32us/sample - loss: 0.5539 - accuracy: 0.8787\n",
      "Epoch 25/100\n",
      "750/750 [==============================] - 0s 33us/sample - loss: 0.5392 - accuracy: 0.8787\n",
      "Epoch 26/100\n",
      "750/750 [==============================] - 0s 31us/sample - loss: 0.5243 - accuracy: 0.8813\n",
      "Epoch 27/100\n",
      "750/750 [==============================] - 0s 35us/sample - loss: 0.5093 - accuracy: 0.8840\n",
      "Epoch 28/100\n",
      "750/750 [==============================] - 0s 31us/sample - loss: 0.4940 - accuracy: 0.8880\n",
      "Epoch 29/100\n",
      "750/750 [==============================] - 0s 35us/sample - loss: 0.4790 - accuracy: 0.8880\n",
      "Epoch 30/100\n",
      "750/750 [==============================] - 0s 35us/sample - loss: 0.4646 - accuracy: 0.8893\n",
      "Epoch 31/100\n",
      "750/750 [==============================] - 0s 40us/sample - loss: 0.4498 - accuracy: 0.8920\n",
      "Epoch 32/100\n",
      "750/750 [==============================] - 0s 45us/sample - loss: 0.4343 - accuracy: 0.8960\n",
      "Epoch 33/100\n",
      "750/750 [==============================] - 0s 37us/sample - loss: 0.4189 - accuracy: 0.8973\n",
      "Epoch 34/100\n",
      "750/750 [==============================] - 0s 37us/sample - loss: 0.4041 - accuracy: 0.8973\n",
      "Epoch 35/100\n",
      "750/750 [==============================] - 0s 31us/sample - loss: 0.3911 - accuracy: 0.8960\n",
      "Epoch 36/100\n",
      "750/750 [==============================] - 0s 32us/sample - loss: 0.3778 - accuracy: 0.8947\n",
      "Epoch 37/100\n",
      "750/750 [==============================] - 0s 37us/sample - loss: 0.3660 - accuracy: 0.8960\n",
      "Epoch 38/100\n",
      "750/750 [==============================] - 0s 36us/sample - loss: 0.3557 - accuracy: 0.8973\n",
      "Epoch 39/100\n",
      "750/750 [==============================] - 0s 36us/sample - loss: 0.3451 - accuracy: 0.9000\n",
      "Epoch 40/100\n",
      "750/750 [==============================] - 0s 32us/sample - loss: 0.3365 - accuracy: 0.9000\n",
      "Epoch 41/100\n",
      "750/750 [==============================] - 0s 29us/sample - loss: 0.3287 - accuracy: 0.9000\n",
      "Epoch 42/100\n",
      "750/750 [==============================] - 0s 29us/sample - loss: 0.3218 - accuracy: 0.9000\n",
      "Epoch 43/100\n",
      "750/750 [==============================] - 0s 28us/sample - loss: 0.3154 - accuracy: 0.9000\n",
      "Epoch 44/100\n",
      "750/750 [==============================] - 0s 29us/sample - loss: 0.3097 - accuracy: 0.9027\n",
      "Epoch 45/100\n",
      "750/750 [==============================] - 0s 32us/sample - loss: 0.3046 - accuracy: 0.9040\n",
      "Epoch 46/100\n",
      "750/750 [==============================] - 0s 31us/sample - loss: 0.2993 - accuracy: 0.9053\n",
      "Epoch 47/100\n",
      "750/750 [==============================] - 0s 31us/sample - loss: 0.2947 - accuracy: 0.9053\n",
      "Epoch 48/100\n",
      "750/750 [==============================] - 0s 29us/sample - loss: 0.2902 - accuracy: 0.9053\n",
      "Epoch 49/100\n",
      "750/750 [==============================] - 0s 29us/sample - loss: 0.2866 - accuracy: 0.9040\n",
      "Epoch 50/100\n",
      "750/750 [==============================] - 0s 31us/sample - loss: 0.2822 - accuracy: 0.9067\n",
      "Epoch 51/100\n",
      "750/750 [==============================] - 0s 32us/sample - loss: 0.2778 - accuracy: 0.9053\n",
      "Epoch 52/100\n",
      "750/750 [==============================] - 0s 31us/sample - loss: 0.2741 - accuracy: 0.9067\n",
      "Epoch 53/100\n",
      "750/750 [==============================] - 0s 27us/sample - loss: 0.2700 - accuracy: 0.9080\n",
      "Epoch 54/100\n",
      "750/750 [==============================] - 0s 29us/sample - loss: 0.2660 - accuracy: 0.9080\n",
      "Epoch 55/100\n",
      "750/750 [==============================] - 0s 28us/sample - loss: 0.2620 - accuracy: 0.9080\n",
      "Epoch 56/100\n",
      "750/750 [==============================] - 0s 31us/sample - loss: 0.2581 - accuracy: 0.9080\n",
      "Epoch 57/100\n",
      "750/750 [==============================] - 0s 29us/sample - loss: 0.2540 - accuracy: 0.9080\n",
      "Epoch 58/100\n",
      "750/750 [==============================] - 0s 31us/sample - loss: 0.2501 - accuracy: 0.9093\n",
      "Epoch 59/100\n",
      "750/750 [==============================] - 0s 28us/sample - loss: 0.2461 - accuracy: 0.9107\n",
      "Epoch 60/100\n",
      "750/750 [==============================] - 0s 28us/sample - loss: 0.2416 - accuracy: 0.9133\n",
      "Epoch 61/100\n",
      "750/750 [==============================] - 0s 32us/sample - loss: 0.2372 - accuracy: 0.9133\n",
      "Epoch 62/100\n",
      "750/750 [==============================] - 0s 29us/sample - loss: 0.2325 - accuracy: 0.9133\n",
      "Epoch 63/100\n",
      "750/750 [==============================] - 0s 31us/sample - loss: 0.2279 - accuracy: 0.9133\n",
      "Epoch 64/100\n",
      "750/750 [==============================] - 0s 33us/sample - loss: 0.2231 - accuracy: 0.9160\n",
      "Epoch 65/100\n",
      "750/750 [==============================] - 0s 31us/sample - loss: 0.2187 - accuracy: 0.9200\n",
      "Epoch 66/100\n",
      "750/750 [==============================] - 0s 31us/sample - loss: 0.2139 - accuracy: 0.9213\n",
      "Epoch 67/100\n",
      "750/750 [==============================] - 0s 31us/sample - loss: 0.2090 - accuracy: 0.9227\n",
      "Epoch 68/100\n",
      "750/750 [==============================] - 0s 31us/sample - loss: 0.2044 - accuracy: 0.9227\n",
      "Epoch 69/100\n",
      "750/750 [==============================] - 0s 28us/sample - loss: 0.1998 - accuracy: 0.9253\n",
      "Epoch 70/100\n",
      "750/750 [==============================] - 0s 28us/sample - loss: 0.1947 - accuracy: 0.9280\n",
      "Epoch 71/100\n",
      "750/750 [==============================] - 0s 32us/sample - loss: 0.1893 - accuracy: 0.9280\n",
      "Epoch 72/100\n",
      "750/750 [==============================] - 0s 37us/sample - loss: 0.1844 - accuracy: 0.9307\n",
      "Epoch 73/100\n",
      "750/750 [==============================] - 0s 29us/sample - loss: 0.1793 - accuracy: 0.9307\n",
      "Epoch 74/100\n",
      "750/750 [==============================] - 0s 29us/sample - loss: 0.1743 - accuracy: 0.9347\n",
      "Epoch 75/100\n",
      "750/750 [==============================] - 0s 31us/sample - loss: 0.1692 - accuracy: 0.9387\n",
      "Epoch 76/100\n",
      "750/750 [==============================] - 0s 29us/sample - loss: 0.1639 - accuracy: 0.9400\n",
      "Epoch 77/100\n",
      "750/750 [==============================] - 0s 31us/sample - loss: 0.1590 - accuracy: 0.9413\n",
      "Epoch 78/100\n",
      "750/750 [==============================] - 0s 29us/sample - loss: 0.1539 - accuracy: 0.9467\n",
      "Epoch 79/100\n",
      "750/750 [==============================] - 0s 32us/sample - loss: 0.1490 - accuracy: 0.9467\n",
      "Epoch 80/100\n",
      "750/750 [==============================] - 0s 37us/sample - loss: 0.1439 - accuracy: 0.9467\n",
      "Epoch 81/100\n",
      "750/750 [==============================] - 0s 29us/sample - loss: 0.1390 - accuracy: 0.9480\n",
      "Epoch 82/100\n",
      "750/750 [==============================] - 0s 36us/sample - loss: 0.1343 - accuracy: 0.9520\n",
      "Epoch 83/100\n",
      "750/750 [==============================] - 0s 40us/sample - loss: 0.1291 - accuracy: 0.9547\n",
      "Epoch 84/100\n",
      "750/750 [==============================] - 0s 31us/sample - loss: 0.1244 - accuracy: 0.9560\n",
      "Epoch 85/100\n",
      "750/750 [==============================] - 0s 28us/sample - loss: 0.1198 - accuracy: 0.9587\n",
      "Epoch 86/100\n",
      "750/750 [==============================] - 0s 31us/sample - loss: 0.1154 - accuracy: 0.9640\n",
      "Epoch 87/100\n",
      "750/750 [==============================] - 0s 28us/sample - loss: 0.1112 - accuracy: 0.9653\n",
      "Epoch 88/100\n",
      "750/750 [==============================] - 0s 28us/sample - loss: 0.1069 - accuracy: 0.9653\n",
      "Epoch 89/100\n",
      "750/750 [==============================] - 0s 28us/sample - loss: 0.1031 - accuracy: 0.9667\n",
      "Epoch 90/100\n",
      "750/750 [==============================] - 0s 29us/sample - loss: 0.0989 - accuracy: 0.9693\n",
      "Epoch 91/100\n",
      "750/750 [==============================] - 0s 28us/sample - loss: 0.0948 - accuracy: 0.9707\n",
      "Epoch 92/100\n",
      "750/750 [==============================] - 0s 28us/sample - loss: 0.0912 - accuracy: 0.9707\n",
      "Epoch 93/100\n",
      "750/750 [==============================] - 0s 29us/sample - loss: 0.0879 - accuracy: 0.9733\n",
      "Epoch 94/100\n",
      "750/750 [==============================] - 0s 28us/sample - loss: 0.0843 - accuracy: 0.9760\n",
      "Epoch 95/100\n",
      "750/750 [==============================] - 0s 29us/sample - loss: 0.0811 - accuracy: 0.9787\n",
      "Epoch 96/100\n",
      "750/750 [==============================] - 0s 28us/sample - loss: 0.0779 - accuracy: 0.9813\n",
      "Epoch 97/100\n",
      "750/750 [==============================] - 0s 31us/sample - loss: 0.0747 - accuracy: 0.9840\n",
      "Epoch 98/100\n",
      "750/750 [==============================] - 0s 31us/sample - loss: 0.0720 - accuracy: 0.9880\n",
      "Epoch 99/100\n",
      "750/750 [==============================] - 0s 29us/sample - loss: 0.0690 - accuracy: 0.9893\n",
      "Epoch 100/100\n",
      "750/750 [==============================] - 0s 28us/sample - loss: 0.0666 - accuracy: 0.9893\n"
     ]
    }
   ],
   "source": [
    "# Compile the Sequential model together and customize metrics\n",
    "new_model.compile(loss=\"binary_crossentropy\", optimizer=\"adam\", metrics=[\"accuracy\"])\n",
    "\n",
    "# Fit the model to the training data\n",
    "new_fit_model = new_model.fit(X_moon_train_scaled, y_moon_train, epochs=100, shuffle=True)"
   ]
  },
  {
   "cell_type": "markdown",
   "metadata": {},
   "source": [
    "Looking at the training metrics of our new model, as we increase the number of neurons within the hidden layer, the classification accuracy improves. You may have noticed that adding multiple neurons to our neural network did not yield a perfect classification model. As input data becomes more complex, neural networks will require more and more optimization tweaks to achieve their desired accuracy."
   ]
  },
  {
   "cell_type": "code",
   "execution_count": null,
   "metadata": {},
   "outputs": [],
   "source": []
  }
 ],
 "metadata": {
  "kernelspec": {
   "display_name": "PythonData",
   "language": "python",
   "name": "pythondata"
  },
  "language_info": {
   "codemirror_mode": {
    "name": "ipython",
    "version": 3
   },
   "file_extension": ".py",
   "mimetype": "text/x-python",
   "name": "python",
   "nbconvert_exporter": "python",
   "pygments_lexer": "ipython3",
   "version": "3.7.6"
  }
 },
 "nbformat": 4,
 "nbformat_minor": 2
}
